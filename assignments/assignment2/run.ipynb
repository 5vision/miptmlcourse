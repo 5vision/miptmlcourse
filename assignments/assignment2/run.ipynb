{
 "cells": [
  {
   "cell_type": "markdown",
   "metadata": {},
   "source": [
    "<h1><center> Practical assignment # 2: convolutional neural networks </center></h1>"
   ]
  },
  {
   "cell_type": "markdown",
   "metadata": {},
   "source": [
    "1. **Start date**: 12 Apr 2017 (Lecture # 7)\n",
    "2. **Deadline**: 24 May 2017\n",
    "\n",
    "### General information on the task:\n",
    "**Diabetic retinopathy** is a common eye disease affecting more than 93 mln people worldwide and notorious for being one of the major causes of blindness in the working-age population of the developed world. Scientists distinguish 4 stages of the disease differing in their symptoms and influence on human's health. Pregression to vision impairment can be slowed or even averted if diabetic retinopathy is detected in time. However, this can be difficult as the disease often shows few symptoms (stages 1, 2) until it is too late to provide effective treatment (stage 4). Currently, detecting diabetic retinopathy is a time-consuming and manual process that requires a trained clinician to examine and evaluate digital color fundus photos of the retina: \n",
    "\n",
    "<tr>\n",
    " <td><img src='good.jpeg' width=\"180\"/></td>  stage 0:\n",
    " <td><img src='bad.jpeg' width=\"180\"/></td>   stage 4:\n",
    "</tr>"
   ]
  },
  {
   "cell_type": "markdown",
   "metadata": {},
   "source": [
    "In 2015, [EyePACS](http://www.eyepacs.com/)  and [California HealthCare Foundation](http://www.chcf.org/) organized a [competition](https://www.kaggle.com/c/diabetic-retinopathy-detection) among data scientists on Kaggle platform. The main goal of this competition was to create a model capable of identifying diabetic retinopathy stage given a color fundus photography as input. To evaluate the quality of the model, a metric called [quadratic weighted kappa](https://www.kaggle.com/c/diabetic-retinopathy-detection#evaluation) was suggested. Quadratic weighted kappa measures correlation between predicted and correct values. The more random the prediction is, the closer kappa is to zero. In contrast, the stronger the positive correlation is, the closer kappa is to unit. Top-10 participants were able to achieve kappa greater than 0.8, the level of performance comparable with that of clinician. \n",
    "\n",
    "Inspired by the results of this competition, we decided to propose you a similar task as your 2 assignment. "
   ]
  },
  {
   "cell_type": "markdown",
   "metadata": {},
   "source": [
    "### Assignment objectives:\n",
    "\n",
    "1. Create a convolutional neural network that takes color fundus images as input and predicts the stage of diabetic retinopathy on them.  \n",
    "2. Assignment will be considered as successfully completed if either quadratic weighted kappa for predictions of your model on test dataset is geater than 0.35 or your results are in TOP-40% of the classroom final rating "
   ]
  },
  {
   "cell_type": "markdown",
   "metadata": {},
   "source": [
    "### Datasets: \n",
    "\n",
    "This assignment uses preprocessed images of color fundus from [Kaggle competition datasets](https://www.kaggle.com/c/diabetic-retinopathy-detection/data). Preprocessing includes blurring, cropping, and resizing to 512x512. To prevent students from augmenting their training set by publicly available Kaggle test dataset, some color distortions were introduced to the images. These distortions cause funny changes in color palitra, but do not affect training efficiency. Numbers in filenames are ids of people. Left and Right mean left and right eyes (usually there is a strong correlation between stages of two eyes)  \n",
    "\n",
    "1. Training dataset consists of 35126 images each of which is assigned to one of 5 classes (0 class means a healthy eye). We have already divided training dataset into train and validation parts, but feel free to make your own division. Dataset is available [here](https://yadi.sk/d/mzaFYDgG3GtdV3). Table containing names of files and disease stage per each of the images in .csv format can be taken [here](https://yadi.sk/d/7SFlJS9I3GtgGD)\n",
    "\n",
    "2. Test dataset is composed of 53576 unclassified images and can be downloaded [here](https://yadi.sk/d/HkdQMqoI3GtcQa)    "
   ]
  },
  {
   "cell_type": "markdown",
   "metadata": {},
   "source": [
    "### Submitting results:\n",
    "After Lecture # 8, you will be able to submit your predictions for test dataset images. Predictions should be sent in .csv file with two columns (image: filename without '.jpeg', level: integer number of predicted class). Submission details will be discussed later. "
   ]
  },
  {
   "cell_type": "code",
   "execution_count": 1,
   "metadata": {},
   "outputs": [
    {
     "name": "stdout",
     "output_type": "stream",
     "text": [
      "      image  level\n",
      "0   10_left      0\n",
      "1  10_right      0\n",
      "2   13_left      0\n"
     ]
    }
   ],
   "source": [
    "import pandas as pd\n",
    "prediction = pd.read_csv('trainLabels.csv', nrows=3)\n",
    "print prediction"
   ]
  },
  {
   "cell_type": "markdown",
   "metadata": {},
   "source": [
    "## Baseline model\n",
    "\n",
    "To give you a basic idea of how to approach the assignment, we have prepared a simple baseline model. Below, we guide you through the key steps of its pipeline\n",
    "\n",
    "1. Download the model and the data. Check that (i) folders data (with subfolders train, test and validation), models and model_params (currently, empty) are in the assignment's main directory, (ii) scripts train.py and evaluate.py as well as .csv file ['trainLabels.csv'](https://yadi.sk/d/7SFlJS9I3GtgGD) are in the main directory, (iii) scripts settings.py (with model's hyperparameters), utils.py, and model.py are in models folder. \n",
    "2. Train the model by launching 'python train.py' in the main directory \n",
    "3. While training, you will be able to observe training statistics (train_loss, train_acc, val_loss, val_acc) that after finishing the learning process, will be saved in 'history.csv' file. Weights for best models are stored in model_params folder and acquire names refering to their val_acc and epoch when they were recorded.\n",
    "4. Now you can calculate quadratic weighted kappa for several good models on validation dataset. Below, we demonstrate how to do it by using code from evaluate.py.\n",
    "5. Take your best model and predict classes for test dataset. Send your predictions to us, as it was described in 'Submitting results'. We took checkpoint weights-improvement-35-0.61.hdf5 for predicting labels of test dataset and obtained kappa = 0.16"
   ]
  },
  {
   "cell_type": "code",
   "execution_count": 2,
   "metadata": {},
   "outputs": [
    {
     "name": "stderr",
     "output_type": "stream",
     "text": [
      "Using TensorFlow backend.\n"
     ]
    }
   ],
   "source": [
    "import os\n",
    "import numpy as np\n",
    "import pandas as pd\n",
    "from PIL import Image\n",
    "from models.settings import *\n",
    "from keras.models import model_from_json\n",
    "from models.utils import quadratic_weighted_kappa"
   ]
  },
  {
   "cell_type": "code",
   "execution_count": 3,
   "metadata": {
    "collapsed": true
   },
   "outputs": [],
   "source": [
    "# test data dir\n",
    "test_data_dir = 'data/validation/'\n",
    "\n",
    "# read names of images and correct labels for them\n",
    "correct_data = pd.read_csv('trainLabels.csv')\n",
    "\n",
    "# create pool of images to be evaluated\n",
    "image_file_pool = []\n",
    "image_name_pool = []\n",
    "class_names = [name for name in os.listdir(test_data_dir)]\n",
    "for class_name in class_names:\n",
    "    for file in os.listdir(test_data_dir+class_name+'/'):\n",
    "        if file.endswith(\".jpeg\"):\n",
    "            image_file_pool.append(test_data_dir+class_name+'/'+file)\n",
    "            image_name_pool.append(file[:-5])\n",
    "\n",
    "# list of trained models to check\n",
    "list_of_checkpoints = ['weights-improvement-35-0.61.hdf5', \n",
    "                       'weights-improvement-46-0.65.hdf5']  # Add names of parameters files\n",
    "\n"
   ]
  },
  {
   "cell_type": "code",
   "execution_count": 4,
   "metadata": {},
   "outputs": [
    {
     "name": "stdout",
     "output_type": "stream",
     "text": [
      "checkpoint weights-improvement-35-0.61.hdf5: 0.1527\n",
      "checkpoint weights-improvement-46-0.65.hdf5: 0.1300\n"
     ]
    }
   ],
   "source": [
    "for checkpoint in list_of_checkpoints:\n",
    "    # load json and create model\n",
    "    json_file = open('model.json', 'r')\n",
    "    loaded_model_json = json_file.read()\n",
    "    json_file.close()\n",
    "    model = model_from_json(loaded_model_json)\n",
    "\n",
    "    # load model's weights\n",
    "    model.load_weights(WEIGHTS_DIR + checkpoint)\n",
    "    \n",
    "    predicted_label = []\n",
    "    correct_label = []\n",
    "\n",
    "    # predict and store labels\n",
    "    for image_idx in range(len(image_file_pool)):\n",
    "        img_array = np.array(Image.open(image_file_pool[image_idx]))\n",
    "        img_array = img_array[None, :]\n",
    "        predicted_label.append(np.argmax(model.predict(img_array).ravel()))\n",
    "        correct_label.append(correct_data['level'].loc[correct_data['image'] == image_name_pool[image_idx]].tolist()[0])\n",
    "\n",
    "    print 'checkpoint {0}: {1:5.4f}'.format(checkpoint, quadratic_weighted_kappa(predicted_label, correct_label))"
   ]
  },
  {
   "cell_type": "markdown",
   "metadata": {},
   "source": [
    "If you want to plot accuracy chart with quadratic weighted kappa data for each epoch, you need to save your model each epoch (in model.py, change save_best_only=True to False in model_checkpoint) and add names of saved models to list_of_checkpoints above. Then you can augment 'history.csv' file with these data and obtain something like our accuracy chart for the baseline model:"
   ]
  },
  {
   "cell_type": "code",
   "execution_count": 5,
   "metadata": {},
   "outputs": [
    {
     "data": {
      "text/plain": [
       "<matplotlib.figure.Figure at 0x7f66983d8390>"
      ]
     },
     "metadata": {},
     "output_type": "display_data"
    },
    {
     "data": {
      "image/png": "[encoded data removed]",
      "text/plain": [
       "<matplotlib.figure.Figure at 0x7f6698201f10>"
      ]
     },
     "metadata": {},
     "output_type": "display_data"
    }
   ],
   "source": [
    "import matplotlib.pyplot as plt\n",
    "acc_history = pd.read_csv('history.csv', index_col=0)\n",
    "k_history = pd.read_csv('k_history.csv', header=None)\n",
    "k_history = k_history.rename(columns={0: 'kappa'})\n",
    "full_history = pd.concat([acc_history, k_history], axis=1)\n",
    "plt.figure(); full_history[['acc', 'val_acc', 'kappa']].plot(); plt.show()"
   ]
  },
  {
   "cell_type": "markdown",
   "metadata": {},
   "source": [
    "From this Figure, it is clear that baseline model is vulnerable to overfitting. "
   ]
  }
 ],
 "metadata": {
  "kernelspec": {
   "display_name": "Python 2",
   "language": "python",
   "name": "python2"
  },
  "language_info": {
   "codemirror_mode": {
    "name": "ipython",
    "version": 2
   },
   "file_extension": ".py",
   "mimetype": "text/x-python",
   "name": "python",
   "nbconvert_exporter": "python",
   "pygments_lexer": "ipython2",
   "version": "2.7.12+"
  }
 },
 "nbformat": 4,
 "nbformat_minor": 2
}
