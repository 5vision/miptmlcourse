{
 "cells": [
  {
   "cell_type": "markdown",
   "metadata": {},
   "source": [
    "# Assignment # 3: recurrent neural networks"
   ]
  },
  {
   "cell_type": "markdown",
   "metadata": {},
   "source": [
    "1. Start date: 19 Apr 2017\n",
    "2. Deadline: 24 May 2017"
   ]
  },
  {
   "cell_type": "markdown",
   "metadata": {},
   "source": [
    "### Motivation\n",
    "\n",
    "Integration of smartphones in our daily life is rapidly growing. Already today, they can keep track of our activities, learn from them, and subsequently help us make better decisions in the future, the abilities of great importance, e.g., for development of new sports mobile apps. However, for this potential to be realized, we have to be able to process the incoming information from smartphone's sensors and identify types of activities corresponding to different patterns in sensor data. "
   ]
  },
  {
   "cell_type": "markdown",
   "metadata": {},
   "source": [
    "### Objectives\n",
    "\n",
    "1. Create a recurrent neural network that takes data from sensors as input and predicts the type of the current activity.\n",
    "2. Assignment will be considered as successfully completed if accuracy on the test set is greater than 78%\n"
   ]
  },
  {
   "cell_type": "markdown",
   "metadata": {},
   "source": [
    "### Datasets\n",
    "\n",
    "Train and test datasets for this assignment were prepared based on the Human Activity Recognition with Smartphones [dataset](https://www.kaggle.com/uciml/human-activity-recognition-with-smartphones) available on Kaggle. The **original** experiments have been carried out with a group of 30 volunteers. Each person performed six activities (WALKING, WALKING_UPSTAIRS, WALKING_DOWNSTAIRS, SITTING, STANDING, LAYING) wearing a smartphone (Samsung Galaxy S II) on the waist. Using its embedded accelerometer and gyroscope, 3-axial linear acceleration and 3-axial angular velocity were captured at a constant rate of 50Hz. The sensor signals (accelerometer and gyroscope) were pre-processed by applying noise filters and then sampled in fixed-width sliding windows of 2.56 sec and 50% overlap (128 readings/window). \n",
    "\n",
    "Each input time series in **our** datasets is composed of 5 timesteps and includes only mean values from accelerometer and gyroscope. We also have introduced some additional noise to the original data in order to prevent students from training their models with datasets augmented by publicly available test data.\n",
    "\n",
    "1. Training dataset consists of 3599 time series each of which is assigned to one of 6 classes. We have already divided training dataset into train and validation parts, but feel free to make your own division.\n",
    "2. Test dataset is composed of 3481 not labeled time series\n",
    "\n",
    "Both datasets are available [here](https://yadi.sk/d/kgJKgQve3H3Y6s)"
   ]
  },
  {
   "cell_type": "markdown",
   "metadata": {},
   "source": [
    "### Submitting results\n",
    "Results on test dataset should be submitted to [Kaggle in-class competition website](https://inclass.kaggle.com/c/classroom-daily-activity-recognition) in the following format (note that activity numeration starts with 1):\n"
   ]
  },
  {
   "cell_type": "code",
   "execution_count": 5,
   "metadata": {
    "collapsed": false
   },
   "outputs": [
    {
     "name": "stdout",
     "output_type": "stream",
     "text": [
      "   file   activity\n",
      "0     1          3\n",
      "1     2          5\n",
      "2     3          1\n",
      "3     4          6\n",
      "4     5          4\n"
     ]
    }
   ],
   "source": [
    "import pandas as pd\n",
    "data = pd.read_csv('example.csv', nrows=5, index_col=None)\n",
    "print data"
   ]
  },
  {
   "cell_type": "markdown",
   "metadata": {},
   "source": [
    "### Recommendations\n",
    "1. Сarefully review baseline model\n",
    "2. Try different architectures (add/remove layers, change initialization, dropout, batch normalization) and hyperparameter settings\n",
    "3. Augment your training dataset with its noised copies so as to increase dataset's size 4-5 times   \n"
   ]
  },
  {
   "cell_type": "markdown",
   "metadata": {},
   "source": [
    "## Baseline model\n",
    "\n",
    "1. Download all necessary files from GitHub and data storage. Check that (i) files train.py and generator.py are in the project's main directory, (ii) files settings.py and model.py are in the models folder, (iii) folders data (with subfolders train, test, validation) and model_params (currently, empty) are in the project's main directory\n",
    "2. To train the model, launch 'python train.py' in the main directory. While training, you may observe the training process. All historic data will be saved in 'history.csv', best models will be stored in model_params folder. The history file can be used later to plot the learning curve like that depicted below for baseline model\n",
    "3. Select the best checkpoint from model_params folder and prepare predictions for test dataset, using the selected model. Submit your predictions in accordance with recommendations in 'Submitting results'. In return, you will receive your test scores. Baseline model has 57.28% accuracy on test dataset "
   ]
  },
  {
   "cell_type": "code",
   "execution_count": 16,
   "metadata": {
    "collapsed": false
   },
   "outputs": [
    {
     "data": {
      "image/png": "[encoded data removed]",
      "text/plain": [
       "<matplotlib.figure.Figure at 0x7fb9fb4ffcd0>"
      ]
     },
     "metadata": {},
     "output_type": "display_data"
    }
   ],
   "source": [
    "%matplotlib inline\n",
    "import matplotlib.pyplot as plt\n",
    "import pandas as pd\n",
    "history = pd.read_csv('history.csv', index_col=0)\n",
    "#plt.figure(); \n",
    "history[['acc', 'val_acc']].plot();plt.show()"
   ]
  }
 ],
 "metadata": {
  "kernelspec": {
   "display_name": "Python 2",
   "language": "python",
   "name": "python2"
  },
  "language_info": {
   "codemirror_mode": {
    "name": "ipython",
    "version": 2
   },
   "file_extension": ".py",
   "mimetype": "text/x-python",
   "name": "python",
   "nbconvert_exporter": "python",
   "pygments_lexer": "ipython2",
   "version": "2.7.6"
  }
 },
 "nbformat": 4,
 "nbformat_minor": 0
}
